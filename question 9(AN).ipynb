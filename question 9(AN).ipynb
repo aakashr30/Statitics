{
 "cells": [
  {
   "cell_type": "code",
   "execution_count": 5,
   "id": "6c83e2c7",
   "metadata": {},
   "outputs": [
    {
     "name": "stdout",
     "output_type": "stream",
     "text": [
      "The probability that the number of pizza sales exceeds 80 in a day 0.7020046649522909\n"
     ]
    }
   ],
   "source": [
    "from scipy import stats\n",
    "Probability = stats.poisson.cdf(80,76)\n",
    "print(\"The probability that the number of pizza sales exceeds 80 in a day\",Probability)"
   ]
  },
  {
   "cell_type": "code",
   "execution_count": null,
   "id": "f8ce18ec",
   "metadata": {},
   "outputs": [],
   "source": []
  },
  {
   "cell_type": "code",
   "execution_count": null,
   "id": "cc3061cd",
   "metadata": {},
   "outputs": [],
   "source": []
  }
 ],
 "metadata": {
  "kernelspec": {
   "display_name": "Python 3 (ipykernel)",
   "language": "python",
   "name": "python3"
  },
  "language_info": {
   "codemirror_mode": {
    "name": "ipython",
    "version": 3
   },
   "file_extension": ".py",
   "mimetype": "text/x-python",
   "name": "python",
   "nbconvert_exporter": "python",
   "pygments_lexer": "ipython3",
   "version": "3.9.7"
  }
 },
 "nbformat": 4,
 "nbformat_minor": 5
}
